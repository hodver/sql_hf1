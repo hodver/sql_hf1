{
    "metadata": {
        "kernelspec": {
            "name": "SQL",
            "display_name": "SQL",
            "language": "sql"
        },
        "language_info": {
            "name": "sql",
            "version": ""
        }
    },
    "nbformat_minor": 2,
    "nbformat": 4,
    "cells": [
        {
            "cell_type": "markdown",
            "source": [
                "**A három tábla első 10 eleme**"
            ],
            "metadata": {
                "language": "sql",
                "azdata_cell_guid": "92a88e13-4912-46a1-9ab6-23f6dccb8ea6"
            },
            "attachments": {}
        },
        {
            "cell_type": "code",
            "source": [
                "SELECT TOP (10) [DiakAz]\r\n",
                "      ,[Nev]\r\n",
                "      ,[Szulido]\r\n",
                "  FROM [diakmunka].[dbo].[diak]"
            ],
            "metadata": {
                "azdata_cell_guid": "ac10909d-24c9-4a7c-a728-8b13b5de7df6",
                "language": "sql"
            },
            "outputs": [
                {
                    "output_type": "display_data",
                    "data": {
                        "text/html": "(10 rows affected)"
                    },
                    "metadata": {}
                },
                {
                    "output_type": "display_data",
                    "data": {
                        "text/html": "Total execution time: 00:00:00.024"
                    },
                    "metadata": {}
                },
                {
                    "output_type": "execute_result",
                    "execution_count": 6,
                    "data": {
                        "application/vnd.dataresource+json": {
                            "schema": {
                                "fields": [
                                    {
                                        "name": "DiakAz"
                                    },
                                    {
                                        "name": "Nev"
                                    },
                                    {
                                        "name": "Szulido"
                                    }
                                ]
                            },
                            "data": [
                                {
                                    "DiakAz": "1",
                                    "Nev": "Kos Péter",
                                    "Szulido": "1987-11-05 00:00:00.000"
                                },
                                {
                                    "DiakAz": "2",
                                    "Nev": "Port Imre",
                                    "Szulido": "1990-05-05 00:00:00.000"
                                },
                                {
                                    "DiakAz": "3",
                                    "Nev": "Kovács Imre",
                                    "Szulido": "1984-03-02 00:00:00.000"
                                },
                                {
                                    "DiakAz": "4",
                                    "Nev": "Horváth Emil",
                                    "Szulido": "1988-05-02 00:00:00.000"
                                },
                                {
                                    "DiakAz": "5",
                                    "Nev": "Kapos Petra",
                                    "Szulido": "1985-12-23 00:00:00.000"
                                },
                                {
                                    "DiakAz": "6",
                                    "Nev": "Csóka Anna",
                                    "Szulido": "1981-11-30 00:00:00.000"
                                },
                                {
                                    "DiakAz": "7",
                                    "Nev": "Nyúl Tamás",
                                    "Szulido": "1988-02-16 00:00:00.000"
                                },
                                {
                                    "DiakAz": "8",
                                    "Nev": "Ordasi Emma",
                                    "Szulido": "1989-01-03 00:00:00.000"
                                },
                                {
                                    "DiakAz": "9",
                                    "Nev": "Koppány Olga",
                                    "Szulido": "1984-02-28 00:00:00.000"
                                },
                                {
                                    "DiakAz": "10",
                                    "Nev": "Kozma Patrícia",
                                    "Szulido": "1983-06-01 00:00:00.000"
                                }
                            ]
                        },
                        "text/html": "<table><tr><th>DiakAz</th><th>Nev</th><th>Szulido</th></tr><tr><td>1</td><td>Kos Péter</td><td>1987-11-05 00:00:00.000</td></tr><tr><td>2</td><td>Port Imre</td><td>1990-05-05 00:00:00.000</td></tr><tr><td>3</td><td>Kovács Imre</td><td>1984-03-02 00:00:00.000</td></tr><tr><td>4</td><td>Horváth Emil</td><td>1988-05-02 00:00:00.000</td></tr><tr><td>5</td><td>Kapos Petra</td><td>1985-12-23 00:00:00.000</td></tr><tr><td>6</td><td>Csóka Anna</td><td>1981-11-30 00:00:00.000</td></tr><tr><td>7</td><td>Nyúl Tamás</td><td>1988-02-16 00:00:00.000</td></tr><tr><td>8</td><td>Ordasi Emma</td><td>1989-01-03 00:00:00.000</td></tr><tr><td>9</td><td>Koppány Olga</td><td>1984-02-28 00:00:00.000</td></tr><tr><td>10</td><td>Kozma Patrícia</td><td>1983-06-01 00:00:00.000</td></tr></table>"
                    },
                    "metadata": {}
                }
            ],
            "execution_count": 6
        },
        {
            "cell_type": "code",
            "source": [
                "SELECT TOP (10) [munkaId]\r\n",
                "      ,[MhelyId]\r\n",
                "      ,[DiakAz]\r\n",
                "      ,[allas]\r\n",
                "      ,[datum]\r\n",
                "      ,[oradij]\r\n",
                "      ,[oraszam]\r\n",
                "      ,[kozepiskolas]\r\n",
                "  FROM [diakmunka].[dbo].[munka]"
            ],
            "metadata": {
                "azdata_cell_guid": "d7ca3615-81b6-4823-91c7-fc79f20079e4",
                "language": "sql"
            },
            "outputs": [
                {
                    "output_type": "display_data",
                    "data": {
                        "text/html": "(10 rows affected)"
                    },
                    "metadata": {}
                },
                {
                    "output_type": "display_data",
                    "data": {
                        "text/html": "Total execution time: 00:00:00.023"
                    },
                    "metadata": {}
                },
                {
                    "output_type": "execute_result",
                    "execution_count": 7,
                    "data": {
                        "application/vnd.dataresource+json": {
                            "schema": {
                                "fields": [
                                    {
                                        "name": "munkaId"
                                    },
                                    {
                                        "name": "MhelyId"
                                    },
                                    {
                                        "name": "DiakAz"
                                    },
                                    {
                                        "name": "allas"
                                    },
                                    {
                                        "name": "datum"
                                    },
                                    {
                                        "name": "oradij"
                                    },
                                    {
                                        "name": "oraszam"
                                    },
                                    {
                                        "name": "kozepiskolas"
                                    }
                                ]
                            },
                            "data": [
                                {
                                    "munkaId": "1",
                                    "MhelyId": "1",
                                    "DiakAz": "1",
                                    "allas": "kézbesítő",
                                    "datum": "2003-07-02 00:00:00.000",
                                    "oradij": "400",
                                    "oraszam": "4",
                                    "kozepiskolas": "0"
                                },
                                {
                                    "munkaId": "2",
                                    "MhelyId": "1",
                                    "DiakAz": "2",
                                    "allas": "ügyfélszolgálati munkatárs",
                                    "datum": "2003-07-03 00:00:00.000",
                                    "oradij": "300",
                                    "oraszam": "4",
                                    "kozepiskolas": "0"
                                },
                                {
                                    "munkaId": "3",
                                    "MhelyId": "2",
                                    "DiakAz": "1",
                                    "allas": "kisegítő",
                                    "datum": "2003-07-01 00:00:00.000",
                                    "oradij": "500",
                                    "oraszam": "4",
                                    "kozepiskolas": "1"
                                },
                                {
                                    "munkaId": "4",
                                    "MhelyId": "2",
                                    "DiakAz": "2",
                                    "allas": "eladó",
                                    "datum": "2003-07-01 00:00:00.000",
                                    "oradij": "350",
                                    "oraszam": "4",
                                    "kozepiskolas": "0"
                                },
                                {
                                    "munkaId": "5",
                                    "MhelyId": "1",
                                    "DiakAz": "1",
                                    "allas": "kézbesítő",
                                    "datum": "2003-07-03 00:00:00.000",
                                    "oradij": "450",
                                    "oraszam": "6",
                                    "kozepiskolas": "0"
                                },
                                {
                                    "munkaId": "6",
                                    "MhelyId": "1",
                                    "DiakAz": "2",
                                    "allas": "futár",
                                    "datum": "2003-07-06 00:00:00.000",
                                    "oradij": "300",
                                    "oraszam": "5",
                                    "kozepiskolas": "1"
                                },
                                {
                                    "munkaId": "7",
                                    "MhelyId": "2",
                                    "DiakAz": "NULL",
                                    "allas": "eladó",
                                    "datum": "2003-07-07 00:00:00.000",
                                    "oradij": "400",
                                    "oraszam": "6",
                                    "kozepiskolas": "0"
                                },
                                {
                                    "munkaId": "8",
                                    "MhelyId": "9",
                                    "DiakAz": "NULL",
                                    "allas": "kisegítő",
                                    "datum": "2003-06-19 00:00:00.000",
                                    "oradij": "300",
                                    "oraszam": "4",
                                    "kozepiskolas": "0"
                                },
                                {
                                    "munkaId": "9",
                                    "MhelyId": "9",
                                    "DiakAz": "6",
                                    "allas": "takarító",
                                    "datum": "2003-06-19 00:00:00.000",
                                    "oradij": "400",
                                    "oraszam": "4",
                                    "kozepiskolas": "0"
                                },
                                {
                                    "munkaId": "10",
                                    "MhelyId": "9",
                                    "DiakAz": "6",
                                    "allas": "takarító",
                                    "datum": "2003-06-20 00:00:00.000",
                                    "oradij": "400",
                                    "oraszam": "4",
                                    "kozepiskolas": "0"
                                }
                            ]
                        },
                        "text/html": "<table><tr><th>munkaId</th><th>MhelyId</th><th>DiakAz</th><th>allas</th><th>datum</th><th>oradij</th><th>oraszam</th><th>kozepiskolas</th></tr><tr><td>1</td><td>1</td><td>1</td><td>kézbesítő</td><td>2003-07-02 00:00:00.000</td><td>400</td><td>4</td><td>0</td></tr><tr><td>2</td><td>1</td><td>2</td><td>ügyfélszolgálati munkatárs</td><td>2003-07-03 00:00:00.000</td><td>300</td><td>4</td><td>0</td></tr><tr><td>3</td><td>2</td><td>1</td><td>kisegítő</td><td>2003-07-01 00:00:00.000</td><td>500</td><td>4</td><td>1</td></tr><tr><td>4</td><td>2</td><td>2</td><td>eladó</td><td>2003-07-01 00:00:00.000</td><td>350</td><td>4</td><td>0</td></tr><tr><td>5</td><td>1</td><td>1</td><td>kézbesítő</td><td>2003-07-03 00:00:00.000</td><td>450</td><td>6</td><td>0</td></tr><tr><td>6</td><td>1</td><td>2</td><td>futár</td><td>2003-07-06 00:00:00.000</td><td>300</td><td>5</td><td>1</td></tr><tr><td>7</td><td>2</td><td>NULL</td><td>eladó</td><td>2003-07-07 00:00:00.000</td><td>400</td><td>6</td><td>0</td></tr><tr><td>8</td><td>9</td><td>NULL</td><td>kisegítő</td><td>2003-06-19 00:00:00.000</td><td>300</td><td>4</td><td>0</td></tr><tr><td>9</td><td>9</td><td>6</td><td>takarító</td><td>2003-06-19 00:00:00.000</td><td>400</td><td>4</td><td>0</td></tr><tr><td>10</td><td>9</td><td>6</td><td>takarító</td><td>2003-06-20 00:00:00.000</td><td>400</td><td>4</td><td>0</td></tr></table>"
                    },
                    "metadata": {}
                }
            ],
            "execution_count": 7
        },
        {
            "cell_type": "code",
            "source": [
                "SELECT TOP (10) [MHelyID]\r\n",
                "      ,[Munkaado_nev]\r\n",
                "      ,[Telepules]\r\n",
                "  FROM [diakmunka].[dbo].[munkaado]"
            ],
            "metadata": {
                "azdata_cell_guid": "d352dfc4-c0e1-4c5c-a657-fa2e0167c010",
                "language": "sql"
            },
            "outputs": [
                {
                    "output_type": "display_data",
                    "data": {
                        "text/html": "(10 rows affected)"
                    },
                    "metadata": {}
                },
                {
                    "output_type": "display_data",
                    "data": {
                        "text/html": "Total execution time: 00:00:00.197"
                    },
                    "metadata": {}
                },
                {
                    "output_type": "execute_result",
                    "execution_count": 8,
                    "data": {
                        "application/vnd.dataresource+json": {
                            "schema": {
                                "fields": [
                                    {
                                        "name": "MHelyID"
                                    },
                                    {
                                        "name": "Munkaado_nev"
                                    },
                                    {
                                        "name": "Telepules"
                                    }
                                ]
                            },
                            "data": [
                                {
                                    "MHelyID": "1",
                                    "Munkaado_nev": "Bicaj Futárszolgálat",
                                    "Telepules": "Csepűfalva"
                                },
                                {
                                    "MHelyID": "2",
                                    "Munkaado_nev": "Soós Pékség",
                                    "Telepules": "Szombati"
                                },
                                {
                                    "MHelyID": "3",
                                    "Munkaado_nev": "Pokol Vagyonvédelem",
                                    "Telepules": "Komád"
                                },
                                {
                                    "MHelyID": "4",
                                    "Munkaado_nev": "Vass Kereskedés",
                                    "Telepules": "Zombrád"
                                },
                                {
                                    "MHelyID": "5",
                                    "Munkaado_nev": "Kati Virágbolt",
                                    "Telepules": "Komád"
                                },
                                {
                                    "MHelyID": "6",
                                    "Munkaado_nev": "Fekete Kávéház",
                                    "Telepules": "Szombati"
                                },
                                {
                                    "MHelyID": "7",
                                    "Munkaado_nev": "Körúti Kávéház",
                                    "Telepules": "Csepűfalva"
                                },
                                {
                                    "MHelyID": "8",
                                    "Munkaado_nev": "Királyi Cukrászat",
                                    "Telepules": "Zombrád"
                                },
                                {
                                    "MHelyID": "9",
                                    "Munkaado_nev": "Konty Fodrászat",
                                    "Telepules": "Szombati"
                                },
                                {
                                    "MHelyID": "10",
                                    "Munkaado_nev": "Falat Pékség",
                                    "Telepules": "Komád"
                                }
                            ]
                        },
                        "text/html": "<table><tr><th>MHelyID</th><th>Munkaado_nev</th><th>Telepules</th></tr><tr><td>1</td><td>Bicaj Futárszolgálat</td><td>Csepűfalva</td></tr><tr><td>2</td><td>Soós Pékség</td><td>Szombati</td></tr><tr><td>3</td><td>Pokol Vagyonvédelem</td><td>Komád</td></tr><tr><td>4</td><td>Vass Kereskedés</td><td>Zombrád</td></tr><tr><td>5</td><td>Kati Virágbolt</td><td>Komád</td></tr><tr><td>6</td><td>Fekete Kávéház</td><td>Szombati</td></tr><tr><td>7</td><td>Körúti Kávéház</td><td>Csepűfalva</td></tr><tr><td>8</td><td>Királyi Cukrászat</td><td>Zombrád</td></tr><tr><td>9</td><td>Konty Fodrászat</td><td>Szombati</td></tr><tr><td>10</td><td>Falat Pékség</td><td>Komád</td></tr></table>"
                    },
                    "metadata": {}
                }
            ],
            "execution_count": 8
        },
        {
            "cell_type": "markdown",
            "source": [
                "Ezekből kiolvasható, hogy a DiakAz és a MHelyID-nél kapcsolódnak össze a táblák."
            ],
            "metadata": {
                "language": "sql",
                "azdata_cell_guid": "14cc047e-885c-45f3-bee3-0612206c3746"
            },
            "attachments": {}
        },
        {
            "cell_type": "markdown",
            "source": [
                "**Min/Max/Avg/Stdev/Var az óradíjjal és óraszámmal** (<span style=\"color: var(--vscode-foreground);\">Min/max/avg and more for numbers &amp; dates)</span>"
            ],
            "metadata": {
                "azdata_cell_guid": "b133ba50-b686-4a0b-bc1f-069af7a69a6c"
            },
            "attachments": {}
        },
        {
            "cell_type": "code",
            "source": [
                "SELECT MIN(oradij) AS 'Legkisebb óradíj',\r\n",
                "        MIN(oraszam) AS 'Legkevesebb óraszám',\r\n",
                "        MAX(oradij) AS 'Legnagyobb óradíj',\r\n",
                "        MAX(oraszam) AS 'Legnagyobb óraszám',\r\n",
                "        AVG(oradij) AS 'Átlagos óradíj',\r\n",
                "        AVG(oraszam) AS 'Átlagos óraszám',\r\n",
                "        STDEV(oradij) AS 'Óradíj szórása',\r\n",
                "        STDEV(oraszam) AS 'Óraszám szórása',\r\n",
                "        VAR(oradij) AS 'Óradíj varianciája', \r\n",
                "        VAR(oraszam) AS 'Óraszám varianciája'\r\n",
                "FROM munka\r\n",
                "WHERE oradij IS NOT NULL OR oraszam IS NOT NULL"
            ],
            "metadata": {
                "azdata_cell_guid": "7cb0906e-e8e9-4d30-bd3f-39572d96d3a5",
                "language": "sql"
            },
            "outputs": [
                {
                    "output_type": "display_data",
                    "data": {
                        "text/html": "(1 row affected)"
                    },
                    "metadata": {}
                },
                {
                    "output_type": "display_data",
                    "data": {
                        "text/html": "Total execution time: 00:00:00.046"
                    },
                    "metadata": {}
                },
                {
                    "output_type": "execute_result",
                    "metadata": {},
                    "execution_count": 1,
                    "data": {
                        "application/vnd.dataresource+json": {
                            "schema": {
                                "fields": [
                                    {
                                        "name": "Legkisebb óradíj"
                                    },
                                    {
                                        "name": "Legkevesebb óraszám"
                                    },
                                    {
                                        "name": "Legnagyobb óradíj"
                                    },
                                    {
                                        "name": "Legnagyobb óraszám"
                                    },
                                    {
                                        "name": "Átlagos óradíj"
                                    },
                                    {
                                        "name": "Átlagos óraszám"
                                    },
                                    {
                                        "name": "Óradíj szórása"
                                    },
                                    {
                                        "name": "Óraszám szórása"
                                    },
                                    {
                                        "name": "Óradíj varianciája"
                                    },
                                    {
                                        "name": "Óraszám varianciája"
                                    }
                                ]
                            },
                            "data": [
                                {
                                    "Legkisebb óradíj": "200",
                                    "Legkevesebb óraszám": "4",
                                    "Legnagyobb óradíj": "500",
                                    "Legnagyobb óraszám": "6",
                                    "Átlagos óradíj": "346",
                                    "Átlagos óraszám": "4",
                                    "Óradíj szórása": "82,4547178019844",
                                    "Óraszám szórása": "0,9690327085521423",
                                    "Óradíj varianciája": "6798,780487804883",
                                    "Óraszám varianciája": "0,939024390243901"
                                }
                            ]
                        },
                        "text/html": [
                            "<table>",
                            "<tr><th>Legkisebb óradíj</th><th>Legkevesebb óraszám</th><th>Legnagyobb óradíj</th><th>Legnagyobb óraszám</th><th>Átlagos óradíj</th><th>Átlagos óraszám</th><th>Óradíj szórása</th><th>Óraszám szórása</th><th>Óradíj varianciája</th><th>Óraszám varianciája</th></tr>",
                            "<tr><td>200</td><td>4</td><td>500</td><td>6</td><td>346</td><td>4</td><td>82,4547178019844</td><td>0,9690327085521423</td><td>6798,780487804883</td><td>0,939024390243901</td></tr>",
                            "</table>"
                        ]
                    }
                }
            ],
            "execution_count": 1
        },
        {
            "cell_type": "markdown",
            "source": [
                "**Település group by** **top 10** (most popular values)"
            ],
            "metadata": {
                "azdata_cell_guid": "5fc20187-c3c3-43ba-97f9-6c74ae5bce2e"
            },
            "attachments": {}
        },
        {
            "cell_type": "code",
            "source": [
                "SELECT TOP 10\r\n",
                "        telepules AS 'Település',\r\n",
                "        Count(*) AS 'Darab'\r\n",
                "FROM munkaado\r\n",
                "GROUP BY telepules"
            ],
            "metadata": {
                "azdata_cell_guid": "9e3eb74c-949e-4c90-b0e6-165cf6d0d6bc",
                "language": "sql"
            },
            "outputs": [
                {
                    "output_type": "display_data",
                    "data": {
                        "text/html": "(4 rows affected)"
                    },
                    "metadata": {}
                },
                {
                    "output_type": "display_data",
                    "data": {
                        "text/html": "Total execution time: 00:00:00.054"
                    },
                    "metadata": {}
                },
                {
                    "output_type": "execute_result",
                    "metadata": {},
                    "execution_count": 3,
                    "data": {
                        "application/vnd.dataresource+json": {
                            "schema": {
                                "fields": [
                                    {
                                        "name": "Település"
                                    },
                                    {
                                        "name": "Darab"
                                    }
                                ]
                            },
                            "data": [
                                {
                                    "Település": "Csepűfalva",
                                    "Darab": "3"
                                },
                                {
                                    "Település": "Komád",
                                    "Darab": "3"
                                },
                                {
                                    "Település": "Szombati",
                                    "Darab": "3"
                                },
                                {
                                    "Település": "Zombrád",
                                    "Darab": "2"
                                }
                            ]
                        },
                        "text/html": [
                            "<table>",
                            "<tr><th>Település</th><th>Darab</th></tr>",
                            "<tr><td>Csepűfalva</td><td>3</td></tr>",
                            "<tr><td>Komád</td><td>3</td></tr>",
                            "<tr><td>Szombati</td><td>3</td></tr>",
                            "<tr><td>Zombrád</td><td>2</td></tr>",
                            "</table>"
                        ]
                    }
                }
            ],
            "execution_count": 3
        },
        {
            "cell_type": "markdown",
            "source": [
                "**DiakAz NULL darabszám** (null rows - numbers and dates)"
            ],
            "metadata": {
                "azdata_cell_guid": "5790a308-e37e-40fe-810e-c4ff2c737e98"
            },
            "attachments": {}
        },
        {
            "cell_type": "code",
            "source": [
                "SELECT Típus,\r\n",
                "        Count(*) AS 'Darab'\r\n",
                "FROM (SELECT CASE \r\n",
                "                WHEN DiakAz IS NULL THEN 'Null'\r\n",
                "                ELSE 'Nem üres'\r\n",
                "                END AS Típus\r\n",
                "            FROM munka) ROWS\r\n",
                "GROUP BY Típus"
            ],
            "metadata": {
                "azdata_cell_guid": "6411d4a3-1256-42dd-9f2c-01836f46618d",
                "language": "sql"
            },
            "outputs": [
                {
                    "output_type": "display_data",
                    "data": {
                        "text/html": "(2 rows affected)"
                    },
                    "metadata": {}
                },
                {
                    "output_type": "display_data",
                    "data": {
                        "text/html": "Total execution time: 00:00:00.023"
                    },
                    "metadata": {}
                },
                {
                    "output_type": "execute_result",
                    "metadata": {},
                    "execution_count": 5,
                    "data": {
                        "application/vnd.dataresource+json": {
                            "schema": {
                                "fields": [
                                    {
                                        "name": "Típus"
                                    },
                                    {
                                        "name": "Darab"
                                    }
                                ]
                            },
                            "data": [
                                {
                                    "Típus": "Nem üres",
                                    "Darab": "31"
                                },
                                {
                                    "Típus": "Null",
                                    "Darab": "10"
                                }
                            ]
                        },
                        "text/html": [
                            "<table>",
                            "<tr><th>Típus</th><th>Darab</th></tr>",
                            "<tr><td>Nem üres</td><td>31</td></tr>",
                            "<tr><td>Null</td><td>10</td></tr>",
                            "</table>"
                        ]
                    }
                }
            ],
            "execution_count": 5
        }
    ]
}